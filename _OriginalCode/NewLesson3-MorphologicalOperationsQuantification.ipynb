{
 "cells": [
  {
   "cell_type": "markdown",
   "metadata": {},
   "source": [
    "# New Lesson 3: Morphological Operations and Quantifications\n",
    "\n",
    "You now know how to find objects of interest in an image and produce masks which correspond to these objects. Up until now, we've relied on good image preprocessing to produce quality masks. Now we will talk about morphological operations, which instead focus on making improvements to the masks directly.\n",
    "\n",
    "1. In this module you will first learn\n",
    "   What is a morphological operation\n",
    "   How to choose the right parameters for your morphological operation\n",
    "   Some common morphological operations\n",
    "    - Erosion\n",
    "    - Dilation\n",
    "    - Opening\n",
    "    - Closing\n",
    "\n",
    "\n",
    "2. To quantify the change in nuclear localization and amount of your favorite protein with drug treatment. We would like to be able to answer two questions: \n",
    "\n",
    "    1) Does the *total* amount of protein per cell change with drug treatment and \n",
    "    2) How does the localization change between the nucleus and the cytoplasm? \n",
    "    \n",
    "    Addressing these questions requires care when choosing the preprocessing algorithms to apply and their ordering, as well as batch processing across datasets.\n",
    "\n",
    "3. Access properties of cells that have been detected, such as\n",
    "    - Area\n",
    "    - Intensity\n",
    "    - Image vs mask properties\n",
    "    - Measures of roundness\n",
    "    - Aspect ratio\n",
    "    - Convexity\n",
    "    \n",
    "   View the statistics of properties of detected cells;\n",
    "   Filter out unwanted cells based on their properties"
   ]
  },
  {
   "cell_type": "markdown",
   "metadata": {},
   "source": [
    "### 3.1 Load previously processed data (filter and thresholding)"
   ]
  },
  {
   "cell_type": "markdown",
   "metadata": {},
   "source": [
    "3.1.1. Load functions"
   ]
  },
  {
   "cell_type": "code",
   "execution_count": null,
   "metadata": {
    "collapsed": true
   },
   "outputs": [],
   "source": [
    "%matplotlib inline\n",
    "import numpy as np\n",
    "import matplotlib.pyplot as plt\n",
    "import seaborn as sns\n",
    "import scipy.ndimage\n",
    "\n",
    "sns.set_style('dark', rc={'image.cmap':'inferno'})"
   ]
  },
  {
   "cell_type": "markdown",
   "metadata": {},
   "source": [
    "3.1.2. Load images"
   ]
  },
  {
   "cell_type": "code",
   "execution_count": null,
   "metadata": {
    "collapsed": true
   },
   "outputs": [],
   "source": [
    "# MAKE SURE YOU ADD YOUR DIRECTORY BELOW\n",
    "from skimage.io import imread\n",
    "\n",
    "data_drug = imread(\"/Users/ahmedelkaffas/Documents/Repositories/DataLucense/dev-summer2018/Data_ConfocalDrugPanel/drugA.tif\")\n",
    "data_nodrug = imread(\"/Users/ahmedelkaffas/Documents/Repositories/DataLucense/dev-summer2018/Data_ConfocalDrugPanel/DMSO.tif\")"
   ]
  },
  {
   "cell_type": "markdown",
   "metadata": {},
   "source": [
    "3.1.3. Load meta data"
   ]
  },
  {
   "cell_type": "code",
   "execution_count": null,
   "metadata": {},
   "outputs": [],
   "source": [
    "import json\n",
    "with open('/Users/ahmedelkaffas/Documents/Repositories/DataLucense/dev-summer2018/Data_ConfocalDrugPanel/DMSO_metadata.json', mode='r') as f_nodrug:\n",
    "    meta_nodrug = json.load(f_nodrug)\n",
    "\n",
    "for key, value in meta_nodrug.items():\n",
    "    print(key)\n",
    "\n",
    "drug_slice = {}\n",
    "nodrug_slice = {}\n",
    "for idx, channel in enumerate(meta_nodrug['channels']):\n",
    "    drug_slice[channel] = data_drug[3,:,:,idx]\n",
    "    nodrug_slice[channel] = data_nodrug[3,:,:,idx] #add in the indexing when read in full dataset\n",
    "    print(channel)"
   ]
  },
  {
   "cell_type": "markdown",
   "metadata": {},
   "source": [
    "3.1.4. Show images"
   ]
  },
  {
   "cell_type": "code",
   "execution_count": null,
   "metadata": {
    "scrolled": false
   },
   "outputs": [],
   "source": [
    "fig, ax = plt.subplots(1, 3, figsize=(16, 4))\n",
    "ax[0].imshow(nodrug_slice[\"actin\"])\n",
    "ax[1].imshow(nodrug_slice['nucleus'])\n",
    "ax[2].imshow(nodrug_slice[\"your_fav_protein\"])\n",
    "fig.suptitle('Before Drug')\n",
    "\n",
    "fig, ax = plt.subplots(1, 3, figsize=(16, 4))\n",
    "ax[0].imshow(drug_slice[\"actin\"])\n",
    "ax[1].imshow(drug_slice['nucleus'])\n",
    "ax[2].imshow(drug_slice[\"your_fav_protein\"])\n",
    "fig.suptitle('After Drug')"
   ]
  },
  {
   "cell_type": "markdown",
   "metadata": {},
   "source": [
    "3.1.5 Maskin\n"
   ]
  },
  {
   "cell_type": "code",
   "execution_count": null,
   "metadata": {
    "collapsed": true
   },
   "outputs": [],
   "source": [
    "#answer\n",
    "def mask_im(im, threshold):\n",
    "    mask = np.zeros(im.shape)\n",
    "    mask[im >=threshold] = 1\n",
    "    plt.imshow(mask, vmin = 0, vmax = 1)\n",
    "    return(mask)"
   ]
  },
  {
   "cell_type": "markdown",
   "metadata": {},
   "source": [
    "### Morphological Operations"
   ]
  },
  {
   "cell_type": "markdown",
   "metadata": {},
   "source": [
    "3.2.1 Pre-set"
   ]
  },
  {
   "cell_type": "code",
   "execution_count": null,
   "metadata": {
    "collapsed": true
   },
   "outputs": [],
   "source": [
    "from skimage.filters.rank import median as median_filter # Our Median Filter\n",
    "from skimage.filters.rank import minimum as min_filter # Our background removal filter\n",
    "from skimage.filters import threshold_otsu # Our Otsu\n",
    "\n",
    "import skimage.morphology as sm\n",
    "from skimage.morphology import disk"
   ]
  },
  {
   "cell_type": "markdown",
   "metadata": {},
   "source": [
    "3.2.2. Pre-process and threshold\n",
    "\n"
   ]
  },
  {
   "cell_type": "code",
   "execution_count": null,
   "metadata": {},
   "outputs": [],
   "source": [
    "# Let's work only with one channel \n",
    "\n",
    "# Apply the median filt\n",
    "channel = \"actin\"\n",
    "data = drug_slice.copy()\n",
    "f_size = 1\n",
    "medfilt_data = median_filter(data[channel], disk(f_size))\n",
    "\n",
    "# Apply the min filt\n",
    "r_size = 70\n",
    "bkg = min_filter(medfilt_data, disk(r_size))\n",
    "filt_data = medfilt_data - bkg\n",
    "filt_data[filt_data<0] = 0\n",
    "\n",
    "# Otsu threshold\n",
    "thresh = threshold_otsu(filt_data)\n",
    "otsu_filt_data = mask_im(filt_data,thresh) #mask_im \n",
    "\n",
    "fig, plt.imshow(otsu_filt_data, cmap='inferno', interpolation = 'none')#, vmin = 0, vmax = 3000)"
   ]
  },
  {
   "cell_type": "markdown",
   "metadata": {},
   "source": [
    "3.2.3. Four Seperate Operation Results"
   ]
  },
  {
   "cell_type": "code",
   "execution_count": null,
   "metadata": {},
   "outputs": [],
   "source": [
    "drug_erode = sm.binary_erosion(otsu_filt_data,sm.disk(3))\n",
    "drug_dilate = sm.binary_dilation(otsu_filt_data,sm.disk(3))\n",
    "\n",
    "fig, plt.imshow(otsu_filt_data)\n",
    "\n",
    "fig, ax = plt.subplots(1, 2, figsize=(12, 6))\n",
    "ax[0].imshow(drug_erode)\n",
    "ax[1].imshow(drug_dilate)\n",
    "\n",
    "# TRY WITH OPENING AND CLOSING\n",
    "drug_close = sm.binary_closing(otsu_filt_data,sm.disk(3))\n",
    "drug_open = sm.binary_opening(otsu_filt_data,sm.disk(3))\n",
    "\n",
    "fig, ax = plt.subplots(1, 2, figsize=(12, 6))\n",
    "ax[0].imshow(drug_close)\n",
    "ax[1].imshow(drug_open)"
   ]
  },
  {
   "cell_type": "markdown",
   "metadata": {},
   "source": [
    "3.2.4. Optimized Operation Results (Closing-opening)"
   ]
  },
  {
   "cell_type": "code",
   "execution_count": null,
   "metadata": {},
   "outputs": [],
   "source": [
    "# Add morphological operations\n",
    "morph1 = sm.binary_closing(otsu_filt_data,sm.disk(4))\n",
    "mask = sm.binary_opening(morph1,sm.disk(4))\n",
    "\n",
    "fig, ax = plt.subplots(1, 2, figsize=(12, 6))\n",
    "ax[0].imshow(otsu_filt_data)\n",
    "ax[1].imshow(mask)"
   ]
  },
  {
   "cell_type": "markdown",
   "metadata": {},
   "source": [
    "### 3.3 Quantifications"
   ]
  },
  {
   "cell_type": "markdown",
   "metadata": {},
   "source": [
    "3.3.1. Find cell body by getting rid of nuclei from the dialated actin mask "
   ]
  },
  {
   "cell_type": "code",
   "execution_count": null,
   "metadata": {
    "collapsed": true
   },
   "outputs": [],
   "source": []
  },
  {
   "cell_type": "markdown",
   "metadata": {},
   "source": [
    "#### Calculate a mean nuclear and cytoplasmic intensities of *your_fav_protein*. For this, we'll apply our masks to the image of interest."
   ]
  },
  {
   "cell_type": "markdown",
   "metadata": {},
   "source": [
    "#### Challenge: process image #2"
   ]
  },
  {
   "cell_type": "code",
   "execution_count": null,
   "metadata": {
    "collapsed": true
   },
   "outputs": [],
   "source": []
  },
  {
   "cell_type": "markdown",
   "metadata": {},
   "source": [
    "3.3.2. Final measure of nuclear and cytoplasmic averages"
   ]
  },
  {
   "cell_type": "code",
   "execution_count": null,
   "metadata": {
    "collapsed": true
   },
   "outputs": [],
   "source": []
  },
  {
   "cell_type": "markdown",
   "metadata": {},
   "source": [
    "### 3.4 Quantifying Properties of Identified Regions or Cells\n"
   ]
  },
  {
   "cell_type": "markdown",
   "metadata": {},
   "source": [
    "3.4.1. Load lable function and label cells with different colors"
   ]
  },
  {
   "cell_type": "code",
   "execution_count": null,
   "metadata": {
    "collapsed": true
   },
   "outputs": [],
   "source": []
  },
  {
   "cell_type": "markdown",
   "metadata": {},
   "source": [
    "3.4.2. Load regionprops function and get the properties of the labeled cells\n"
   ]
  },
  {
   "cell_type": "code",
   "execution_count": null,
   "metadata": {
    "collapsed": true
   },
   "outputs": [],
   "source": []
  },
  {
   "cell_type": "markdown",
   "metadata": {},
   "source": [
    "3.4.3. Load interactive function and show the chosen labeled cells"
   ]
  },
  {
   "cell_type": "code",
   "execution_count": null,
   "metadata": {
    "collapsed": true
   },
   "outputs": [],
   "source": []
  },
  {
   "cell_type": "markdown",
   "metadata": {},
   "source": [
    "3.4.4. Show single cell mask properties: 6th cell's area"
   ]
  },
  {
   "cell_type": "code",
   "execution_count": null,
   "metadata": {
    "collapsed": true
   },
   "outputs": [],
   "source": [
    "\n"
   ]
  },
  {
   "cell_type": "markdown",
   "metadata": {},
   "source": [
    "#### Challenge: what is the actual value of area in mm^2? Note: using the scale in meta data."
   ]
  },
  {
   "cell_type": "code",
   "execution_count": null,
   "metadata": {
    "collapsed": true
   },
   "outputs": [],
   "source": []
  },
  {
   "cell_type": "markdown",
   "metadata": {},
   "source": [
    "3.4.5. Show single cell mask properties: 6th cell's mean_intensity,centroid, weighted_centroid"
   ]
  },
  {
   "cell_type": "code",
   "execution_count": null,
   "metadata": {
    "collapsed": true
   },
   "outputs": [],
   "source": []
  },
  {
   "cell_type": "markdown",
   "metadata": {},
   "source": [
    "3.4.6. Measures of roundness\n"
   ]
  },
  {
   "cell_type": "markdown",
   "metadata": {},
   "source": [
    "Ratio"
   ]
  },
  {
   "cell_type": "code",
   "execution_count": null,
   "metadata": {
    "collapsed": true
   },
   "outputs": [],
   "source": []
  },
  {
   "cell_type": "markdown",
   "metadata": {},
   "source": [
    "Solidity"
   ]
  },
  {
   "cell_type": "code",
   "execution_count": null,
   "metadata": {
    "collapsed": true
   },
   "outputs": [],
   "source": []
  },
  {
   "cell_type": "markdown",
   "metadata": {},
   "source": [
    "Roundness"
   ]
  },
  {
   "cell_type": "code",
   "execution_count": null,
   "metadata": {
    "collapsed": true
   },
   "outputs": [],
   "source": []
  },
  {
   "cell_type": "markdown",
   "metadata": {},
   "source": [
    "### More properties you can get:\n",
    "#### [link: full parameters in regionprops](http://scikit-image.org/docs/0.8.0/api/skimage.measure.html#skimage.measure.regionprops)"
   ]
  },
  {
   "cell_type": "code",
   "execution_count": null,
   "metadata": {
    "collapsed": true
   },
   "outputs": [],
   "source": []
  }
 ],
 "metadata": {
  "kernelspec": {
   "display_name": "Python 3",
   "language": "python",
   "name": "python3"
  },
  "language_info": {
   "codemirror_mode": {
    "name": "ipython",
    "version": 3
   },
   "file_extension": ".py",
   "mimetype": "text/x-python",
   "name": "python",
   "nbconvert_exporter": "python",
   "pygments_lexer": "ipython3",
   "version": "3.6.1"
  },
  "widgets": {
   "application/vnd.jupyter.widget-state+json": {
    "state": {},
    "version_major": 2,
    "version_minor": 0
   }
  }
 },
 "nbformat": 4,
 "nbformat_minor": 1
}
