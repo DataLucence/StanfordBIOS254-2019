{
 "cells": [
  {
   "cell_type": "markdown",
   "metadata": {},
   "source": [
    "# Preprocessing"
   ]
  },
  {
   "cell_type": "markdown",
   "metadata": {},
   "source": [
    "\n",
    "Fluorescence datasets ideally reflect a relationship between the pixels in an image and the location and local density of your fluorescent molecule in a sample. However, properties of the detectors, optics, or even the samples can confound direct interpretation of this data. Here we will present some operations that can mitigate these effects to achieve robust hypothesis testing. \n",
    "\n",
    "Today, we will define the ROIs (regions of interest) in this set of images. You may have noticed some qualities of the above images that make them hard to reliably threshold into masks relecting the relevant cell organelles.\n",
    "\n",
    "Part 1 Getting Ready\n",
    "1. Loading images\n",
    "2. Metadata\n",
    "3. Visual inspection\n",
    "\n",
    "\n",
    "Part 2: Global Threshold\n",
    "1. Difference in intensity between images.\n",
    "    - Introduction to automated thresholding methods.\n",
    "\n",
    "Part 3: Local Threshold\n",
    "1. Noise corrupting the images\n",
    "    - Introduction to Rank Filters: median filter\n",
    "2. Uneven illumination in the nucleus channel makes finding a single threshold across a single image challenging. \n",
    "    - Rolling ball background subtraction\n",
    "3. Uneven paxillin expression, low EGFP signal, and cytoplasmic signal complicate focal adhesion thresholding\n",
    "    - thresholding within defined ROIs "
   ]
  },
  {
   "cell_type": "markdown",
   "metadata": {},
   "source": [
    "First, let's import packages."
   ]
  },
  {
   "cell_type": "code",
   "execution_count": null,
   "metadata": {
    "collapsed": true
   },
   "outputs": [],
   "source": [
    "%matplotlib inline\n",
    "import numpy as np\n",
    "import matplotlib.pyplot as plt\n",
    "import seaborn as sns\n",
    "import scipy.ndimage\n",
    "import skimage\n",
    "\n",
    "sns.set_style('dark', rc={'image.cmap':'inferno'})"
   ]
  },
  {
   "cell_type": "markdown",
   "metadata": {},
   "source": [
    "First, check files in the directory."
   ]
  },
  {
   "cell_type": "code",
   "execution_count": null,
   "metadata": {},
   "outputs": [],
   "source": [
    "# CHANGE PATH TO YOUR PC WHERE DATA IS\n",
    "data_path = \"/Users/ahmedelkaffas/Documents/Repositories/DataLucense/dev-summer2018/Data_ConfocalDrugPanel/\"\n",
    "import os\n",
    "os.listdir(data_path)\n",
    "print(data_path)"
   ]
  },
  {
   "cell_type": "markdown",
   "metadata": {},
   "source": [
    "Then, read files of interest, in our case, dataset with and without drug. Check dimensions of the dataset."
   ]
  },
  {
   "cell_type": "code",
   "execution_count": null,
   "metadata": {
    "collapsed": true
   },
   "outputs": [],
   "source": [
    "from skimage.io import imread\n",
    "\n",
    "data_drug = np.uint16(imread(data_path + \"drugA.tif\")) #treated with drugA\n",
    "data_nodrug = np.uint16(imread(data_path + \"DMSO.tif\")) #treated without drug"
   ]
  },
  {
   "cell_type": "code",
   "execution_count": null,
   "metadata": {},
   "outputs": [],
   "source": [
    "data_drug.shape"
   ]
  },
  {
   "cell_type": "markdown",
   "metadata": {},
   "source": [
    "Let's examine the metadata- json is the format for this dataset."
   ]
  },
  {
   "cell_type": "code",
   "execution_count": null,
   "metadata": {
    "collapsed": true
   },
   "outputs": [],
   "source": [
    "import json\n",
    "with open( data_path + 'DMSO_metadata.json', mode='r') as f_nodrug:\n",
    "    meta_nodrug = json.load(f_nodrug)"
   ]
  },
  {
   "cell_type": "code",
   "execution_count": null,
   "metadata": {},
   "outputs": [],
   "source": [
    "meta_nodrug \n",
    "#or more nicely, \n",
    "#for key, value in meta_nodrug.items():\n",
    "#    print(key)"
   ]
  },
  {
   "cell_type": "markdown",
   "metadata": {},
   "source": [
    "Let's re-label the slices with names, instead of numbers."
   ]
  },
  {
   "cell_type": "code",
   "execution_count": null,
   "metadata": {},
   "outputs": [],
   "source": [
    "drug_slice = {}\n",
    "nodrug_slice = {}\n",
    "for idx, channel in enumerate(meta_nodrug['channels']):\n",
    "    drug_slice[channel] = data_drug[3,:,:,idx]\n",
    "    nodrug_slice[channel] = data_nodrug[3,:,:,idx] #add in the indexing when read in full dataset\n",
    "    print(channel)"
   ]
  },
  {
   "cell_type": "markdown",
   "metadata": {},
   "source": [
    "We are ready to plot and visualize our dataset! We can see there is a change before drug vs after drug."
   ]
  },
  {
   "cell_type": "code",
   "execution_count": null,
   "metadata": {},
   "outputs": [],
   "source": [
    "fig, ax = plt.subplots(1, 3, figsize=(16, 4))\n",
    "ax[0].imshow(nodrug_slice[\"actin\"])\n",
    "ax[1].imshow(nodrug_slice['nucleus'])\n",
    "ax[2].imshow(nodrug_slice[\"your_fav_protein\"])\n",
    "fig.suptitle('Before Drug')\n",
    "\n",
    "fig, ax = plt.subplots(1, 3, figsize=(16, 4))\n",
    "ax[0].imshow(drug_slice[\"actin\"])\n",
    "ax[1].imshow(drug_slice['nucleus'])\n",
    "ax[2].imshow(drug_slice[\"your_fav_protein\"])\n",
    "fig.suptitle('After Drug')"
   ]
  },
  {
   "cell_type": "markdown",
   "metadata": {},
   "source": [
    "Now, let's start pre-processing our dataset. We will focus on the \"your_fav_protein\" dataset."
   ]
  },
  {
   "cell_type": "code",
   "execution_count": null,
   "metadata": {
    "collapsed": true
   },
   "outputs": [],
   "source": [
    "data1 = nodrug_slice[\"your_fav_protein\"]\n",
    "data2 = drug_slice[\"your_fav_protein\"]"
   ]
  },
  {
   "cell_type": "markdown",
   "metadata": {},
   "source": [
    "First, let's try global threshold, selecting one, single value for the entire data set. The widget allows to change the value manually."
   ]
  },
  {
   "cell_type": "code",
   "execution_count": null,
   "metadata": {},
   "outputs": [],
   "source": [
    "#data1 = vinc[\"nucleus\"]\n",
    "#data2 = wt[\"nucleus\"]\n",
    "\n",
    "from ipywidgets import interactive\n",
    "@interactive\n",
    "def show_masks(thresh=(0, data1.max() * 0.3, 500)): #shwo_masks a function, whey thresh have 3 input\n",
    "    fig, ax = plt.subplots(1, 2, figsize=(64, 50))\n",
    "    \n",
    "    mask1 = np.zeros(data1.shape)\n",
    "    mask2 = np.zeros(data2.shape)\n",
    "    \n",
    "    mask1[data1 >=thresh] = 1\n",
    "    mask2[data2 >=thresh] = 1\n",
    "    \n",
    "    ax[0].imshow(mask1, vmin=0, vmax=1)\n",
    "    ax[1].imshow(mask2, vmin=0, vmax=1)\n",
    "show_masks"
   ]
  },
  {
   "cell_type": "markdown",
   "metadata": {},
   "source": [
    "It looks like thresholding fails- a ring like structure is visible. There might be an uneven illumination and other noises in the dataset. Let's filter out these noises. Here's our raw data: can you see some of noises? Speckles are visible. Let's remove these 'salt-and-pepper' noise first."
   ]
  },
  {
   "cell_type": "code",
   "execution_count": null,
   "metadata": {},
   "outputs": [],
   "source": [
    "plt.imshow(nodrug_slice[\"your_fav_protein\"])"
   ]
  },
  {
   "cell_type": "markdown",
   "metadata": {},
   "source": [
    "We need to import packages and filters. (Please refer to the background slides for the introduction to filters)"
   ]
  },
  {
   "cell_type": "code",
   "execution_count": null,
   "metadata": {
    "collapsed": true
   },
   "outputs": [],
   "source": [
    "from skimage.filters.rank import mean as mean_filter\n",
    "from skimage.filters.rank import minimum as min_filter\n",
    "from skimage.filters.rank import median as median_filter\n",
    "from skimage.morphology import disk"
   ]
  },
  {
   "cell_type": "markdown",
   "metadata": {},
   "source": [
    "First, let's examine the effect of filter sizes."
   ]
  },
  {
   "cell_type": "code",
   "execution_count": null,
   "metadata": {},
   "outputs": [],
   "source": [
    "from skimage.morphology import disk\n",
    "\n",
    "with sns.axes_style('white'):\n",
    "    N = 5\n",
    "    fig, axes = plt.subplots(1, N, figsize=(16, 3))\n",
    "    for n, ax in enumerate(axes):\n",
    "        np1 = n + 1\n",
    "        ax.imshow(np.pad(disk(np1), N-n, 'constant'), interpolation='none')\n",
    "        c = plt.Circle((np1 + N - n, np1 + N - n), radius=np1, fill=False, lw=4, color='b')\n",
    "        ax.add_artist(c)\n",
    "        ax.set_xlim(0, 2 * N + 2)\n",
    "        ax.set_ylim(0, 2 * N + 2)"
   ]
  },
  {
   "cell_type": "markdown",
   "metadata": {},
   "source": [
    "Now, try using median filter to remove the salt-pepper noise. Can you see differences in the images?"
   ]
  },
  {
   "cell_type": "code",
   "execution_count": null,
   "metadata": {},
   "outputs": [],
   "source": [
    "f_size = 1\n",
    "data_filt = median_filter(nodrug_slice[\"your_fav_protein\"], disk(f_size))\n",
    "\n",
    "max_view = 2000 #change me to change brightness of all images uniformally\n",
    "\n",
    "fig, ax = plt.subplots(1, 2)#, figsize=\n",
    "ax[0].imshow(nodrug_slice[\"your_fav_protein\"])\n",
    "ax[1].imshow(data_filt)\n",
    "fig.suptitle('Median Filter')\n",
    "\n",
    "#fig, ax = plt.subplots(1, 2, figsize=(20, 20))\n",
    "#ax[0, 0].imshow(data_noised, interpolation = 'none', vmin = 0, vmax = max_view)\n",
    "#ax[0, 1].imshow(data_filt, interpolation = 'none', vmin = 0, vmax = max_view)\n",
    "#ax[1, 0].imshow(vinc['pax'], interpolation = 'none', vmin = 0, vmax = max_view)\n",
    "#ax[1, 1].imshow(im_filt, interpolation = 'none', vmin = 0, vmax = max_view)"
   ]
  },
  {
   "cell_type": "markdown",
   "metadata": {},
   "source": [
    "Now, we can take the filtered image and further pre-process. We'd like to remove the un-even illumination. First, we will extract the background. The radius should be set to at least the size of the largest object that is not part of the background."
   ]
  },
  {
   "cell_type": "code",
   "execution_count": null,
   "metadata": {},
   "outputs": [],
   "source": [
    "# the radius should be set to at least the size of the largest object that is not part of the background\n",
    "r = 70\n",
    "structuring_element = disk(r)\n",
    "background = min_filter(data_filt, structuring_element)\n",
    "plt.imshow(background, cmap='inferno', interpolation = 'none')#, vmin = 0, vmax = 3000)"
   ]
  },
  {
   "cell_type": "markdown",
   "metadata": {},
   "source": [
    "Next, let's substract out the background from the dataset."
   ]
  },
  {
   "cell_type": "code",
   "execution_count": null,
   "metadata": {},
   "outputs": [],
   "source": [
    "bgs = data_filt - background\n",
    "bgs[bgs<0] = 0\n",
    "\n",
    "fig, ax = plt.subplots(1, 2, figsize=(10, 5))\n",
    "ax[0].imshow(nodrug_slice[\"your_fav_protein\"], interpolation = 'none', vmax = max_val_see)\n",
    "ax[1].imshow(bgs, interpolation = 'none')"
   ]
  },
  {
   "cell_type": "markdown",
   "metadata": {},
   "source": [
    "With our pre-processed dataset, let's try the thresholding again."
   ]
  },
  {
   "cell_type": "code",
   "execution_count": null,
   "metadata": {},
   "outputs": [],
   "source": [
    "### GIVE IT 30 SECONDS TO RUN\n",
    "\n",
    "from ipywidgets import interactive\n",
    "@interactive\n",
    "def show_masks(thresh=(0, data1.max() * 0.3, 500)): #shwo_masks a function, whey thresh have 3 input\n",
    "    fig, ax = plt.subplots(1, 2, figsize=(64, 50))\n",
    "    \n",
    "    mask1 = np.zeros(data1.shape)\n",
    "    mask2 = np.zeros(data2.shape)\n",
    "    \n",
    "    mask1[data1 >=thresh] = 1\n",
    "    mask2[data2 >=thresh] = 1\n",
    "    \n",
    "    ax[0].imshow(mask1, vmin=0, vmax=1)\n",
    "    ax[1].imshow(mask2, vmin=0, vmax=1)\n",
    "show_masks\n",
    "\n",
    "### GIVE IT 30 SECONDS TO RUN\n"
   ]
  },
  {
   "cell_type": "markdown",
   "metadata": {},
   "source": [
    "While manual thresholding is convenient, it is not the most reliable way to decide the threshold. How can we systematically and reproducibly define a threshold? Otsu's method looks at the histogram and differentiate \"signal\" vs \"noise\" to determine the threshold. We want a value that includes signal only. (please see the slides for more information)"
   ]
  },
  {
   "cell_type": "markdown",
   "metadata": {},
   "source": [
    "First, we will define a mask function. When a data point is greater than threshold, we will give 1. Otherwise 0."
   ]
  },
  {
   "cell_type": "code",
   "execution_count": null,
   "metadata": {
    "collapsed": true
   },
   "outputs": [],
   "source": [
    "#answer\n",
    "def mask_im(im, threshold):\n",
    "    mask = np.zeros(im.shape)\n",
    "    mask[im >=threshold] = 1\n",
    "    plt.imshow(mask, vmin = 0, vmax = 1)\n",
    "    return(mask)"
   ]
  },
  {
   "cell_type": "markdown",
   "metadata": {},
   "source": [
    "Let's use otsu filter from the imported packages."
   ]
  },
  {
   "cell_type": "code",
   "execution_count": null,
   "metadata": {},
   "outputs": [],
   "source": [
    "#answer:\n",
    "from skimage.filters import threshold_otsu\n",
    "\n",
    "data = bgs.copy()\n",
    "thresh = threshold_otsu(data)\n",
    "mask = mask_im(data,thresh) #mask_im \n",
    "plt.close('all')  # mask_im produces an image of mask, close it for now\n",
    "fig, ax = plt.subplots(1, 2) #, figsize=(32, 50)) \n",
    "ax[0].imshow(mask)#[700:900, :200])\n",
    "ax[1].imshow(data)#[700:900, :200])"
   ]
  },
  {
   "cell_type": "markdown",
   "metadata": {},
   "source": [
    "Let's examine what Otsu's method did by looking at the histogram. We can see signal cluster vs noise cluster and the threshold value."
   ]
  },
  {
   "cell_type": "code",
   "execution_count": null,
   "metadata": {},
   "outputs": [],
   "source": [
    "#answer\n",
    "sns.distplot(data.flatten(), hist_kws={'log': False}, kde=False) \n",
    "plt.axvline(thresh, ls='--', lw=2, c='r', label='Otsu threshold') \n",
    "plt.legend()\n",
    "plt.ylim(0,300000)"
   ]
  },
  {
   "cell_type": "markdown",
   "metadata": {},
   "source": [
    "We can also extract the threshold value."
   ]
  },
  {
   "cell_type": "code",
   "execution_count": null,
   "metadata": {},
   "outputs": [],
   "source": [
    "#answer\n",
    "protein_thresh = threshold_otsu(data) \n",
    "print(\"The calculated masking threshold for the fav_protein is:\", protein_thresh)"
   ]
  },
  {
   "cell_type": "markdown",
   "metadata": {},
   "source": [
    "Exercise: try Otsu's method with the filtered nucleus dataset."
   ]
  },
  {
   "cell_type": "markdown",
   "metadata": {},
   "source": [
    "Otsu's method isn't the only way to determine the threshold. A list of various methods are listed here: https://imagej.net/Auto_Threshold Another example is Yen's method, a multi-level thresholding algorithm."
   ]
  },
  {
   "cell_type": "code",
   "execution_count": null,
   "metadata": {},
   "outputs": [],
   "source": [
    "import skimage.filters as filters\n",
    "from skimage.morphology import label\n",
    "protein_mask = mask_im(data, filters.threshold_yen(data)) \n",
    "#plt.imshow(label(nuc_mask))\n",
    "print(label(protein_mask).max()) "
   ]
  },
  {
   "cell_type": "markdown",
   "metadata": {},
   "source": [
    "Let's examine istogram for Yen's method."
   ]
  },
  {
   "cell_type": "code",
   "execution_count": null,
   "metadata": {},
   "outputs": [],
   "source": [
    "from skimage.filters import threshold_yen\n",
    "protein_thresh_yen = threshold_yen(data) \n",
    "print(\"The calculated masking threshold for the fav_protein is:\", protein_thresh)"
   ]
  },
  {
   "cell_type": "markdown",
   "metadata": {
    "collapsed": true
   },
   "source": [
    "Can you try 1 other filter?"
   ]
  }
 ],
 "metadata": {
  "kernelspec": {
   "display_name": "Python 3",
   "language": "python",
   "name": "python3"
  },
  "language_info": {
   "codemirror_mode": {
    "name": "ipython",
    "version": 3
   },
   "file_extension": ".py",
   "mimetype": "text/x-python",
   "name": "python",
   "nbconvert_exporter": "python",
   "pygments_lexer": "ipython3",
   "version": "3.6.1"
  }
 },
 "nbformat": 4,
 "nbformat_minor": 2
}
