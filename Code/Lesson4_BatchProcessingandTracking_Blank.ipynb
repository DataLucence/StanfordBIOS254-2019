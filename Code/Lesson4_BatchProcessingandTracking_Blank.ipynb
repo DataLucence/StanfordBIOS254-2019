{
 "cells": [
  {
   "cell_type": "markdown",
   "metadata": {},
   "source": [
    "# Lesson 4 Batch Processing and Tracking\n",
    "\n",
    "Congratulations, you've just completed an awesome image processing pipeline that takes an image and does something rather useful. You've tested it a few times and you're happy with the results. \n",
    "\n",
    "Now maybe you need to apply the same operation to 1000 images. Maybe you need to apply them to 20 datasets with slightly different parameters. Maybe you need to aggregate information across the results of each processed image to make your conclusions. These needs can be addressed by applying your pipeline with batch processing. In this lesson, you will learn:\n",
    "\n",
    "1. Two batch processing strategies and their advantages & disadvantages\n",
    "    - EPISODE 1: Vertical strategy\n",
    "    - EPISODE 2: Horizontal strategy\n",
    "    - EPISODE 3: Memory management\n",
    "2. Cell tracking approach and measurements\n",
    "    - EPISODE 4: Cell tracking"
   ]
  },
  {
   "cell_type": "markdown",
   "metadata": {},
   "source": [
    "## 4.1 Batch processing strategies (vertical and horizontal integration)"
   ]
  },
  {
   "cell_type": "markdown",
   "metadata": {},
   "source": [
    "### 4.1.1 Project aim: batch processing of multiple images\n"
   ]
  },
  {
   "cell_type": "code",
   "execution_count": 1,
   "metadata": {},
   "outputs": [
    {
     "name": "stdout",
     "output_type": "stream",
     "text": [
      "The number of images =  50\n",
      "['HAC-Cit-KRABdox_w2YFPled_s41_t10.TIF', 'HAC-Cit-KRABdox_w2YFPled_s41_t11.TIF', 'HAC-Cit-KRABdox_w2YFPled_s41_t12.TIF', 'HAC-Cit-KRABdox_w2YFPled_s41_t13.TIF', 'HAC-Cit-KRABdox_w2YFPled_s41_t14.TIF', 'HAC-Cit-KRABdox_w2YFPled_s41_t15.TIF', 'HAC-Cit-KRABdox_w2YFPled_s41_t16.TIF', 'HAC-Cit-KRABdox_w2YFPled_s41_t17.TIF', 'HAC-Cit-KRABdox_w2YFPled_s41_t18.TIF']\n"
     ]
    }
   ],
   "source": [
    "import os\n",
    "# change the current path to the data path\n",
    "data_path = \"/Users/guolanlu/Desktop/Lesson4/Data/L4Data/ImagesAll\";\n",
    "os.chdir(data_path)\n",
    "print('The number of images = ',len(os.listdir()))\n",
    "print(os.listdir()[1:10])\n"
   ]
  },
  {
   "cell_type": "markdown",
   "metadata": {},
   "source": [
    "#### Step 1: define a function to load data"
   ]
  },
  {
   "cell_type": "code",
   "execution_count": null,
   "metadata": {},
   "outputs": [],
   "source": []
  },
  {
   "cell_type": "markdown",
   "metadata": {},
   "source": [
    "#### Step 2: define a function to pre-process the data\n",
    " - filter: smooth image/remove noise\n",
    " - thresholding: generate mask\n",
    " - morphological: refine mask"
   ]
  },
  {
   "cell_type": "code",
   "execution_count": null,
   "metadata": {},
   "outputs": [],
   "source": []
  },
  {
   "cell_type": "markdown",
   "metadata": {},
   "source": [
    "#### Step 3: extract information from data\n",
    " - count cell number\n",
    " - measure protein expression\n",
    " - ......"
   ]
  },
  {
   "cell_type": "code",
   "execution_count": null,
   "metadata": {},
   "outputs": [],
   "source": []
  },
  {
   "cell_type": "markdown",
   "metadata": {},
   "source": [
    "#### Step 4: batch processing: count cell numbers of all images"
   ]
  },
  {
   "cell_type": "markdown",
   "metadata": {},
   "source": [
    "#### 4.1.2 Strategy one: the vertical approach\n",
    "\n",
    " A straightforward procedure that applies all processing steps to each image one at a time, from start to end."
   ]
  },
  {
   "cell_type": "code",
   "execution_count": null,
   "metadata": {
    "scrolled": false
   },
   "outputs": [],
   "source": []
  },
  {
   "cell_type": "markdown",
   "metadata": {},
   "source": [
    "Plot the number of cells over all the images"
   ]
  },
  {
   "cell_type": "code",
   "execution_count": null,
   "metadata": {},
   "outputs": [],
   "source": []
  },
  {
   "cell_type": "markdown",
   "metadata": {},
   "source": [
    "**The advantages of using predefined functions for each processing step:** \n",
    " - Concise flow: clear main flow for reading and processing; \n",
    " - Time saving: easily reused for other projects; \n",
    " - Reproducible: minimal input error and avoiding inconsistent operations. \n",
    "\n",
    "These are very important when processing large dataset with multiple steps, especially with many lines of codes."
   ]
  },
  {
   "cell_type": "markdown",
   "metadata": {},
   "source": [
    "### 4.1.3 Strategy two: the horizontal approach\n",
    "When you face a problem and want to debug functions, vertical approach may not be the best choice. \n",
    "Instead of applying all processing steps to each image one at a time, you can use the horizontal approach that applies one processing step to all images and then move to the next step. In this way, each processing step will serve as a seperate unit for testing and debugging."
   ]
  },
  {
   "cell_type": "markdown",
   "metadata": {},
   "source": [
    "So now rather than completing your pipline \"vertically\", from start to finish, top to bottom, you are completing your pipeline \"horizontally\", applying each processing step across all the images."
   ]
  },
  {
   "cell_type": "markdown",
   "metadata": {},
   "source": [
    "**Exercise 1:** Implement horizontal approach: count cell numbers from all the images"
   ]
  },
  {
   "cell_type": "code",
   "execution_count": 2,
   "metadata": {},
   "outputs": [],
   "source": [
    "# variable initialization\n",
    "images = []\n",
    "processed = []\n",
    "results = []\n",
    "\n",
    "# 1. load all the images\n",
    "\n",
    "\n",
    "# 2. pre-process all the loaded images\n",
    "\n",
    "    \n",
    "# 3. extract information from all the pre-processed images\n",
    "\n",
    "\n",
    "# 4. print your results\n"
   ]
  },
  {
   "cell_type": "markdown",
   "metadata": {},
   "source": [
    "In fact, when you've made your code modular with little functions, Python tries to support this approach with _functional programming tools_. We'll talk about one of the especially useful ones:\n",
    "\n",
    "- `map(function, iterable)`. Applies `function` to each element in `iterable` (i.e. anything you can loop through) and gives you a new list with the results."
   ]
  },
  {
   "cell_type": "code",
   "execution_count": 3,
   "metadata": {
    "scrolled": false
   },
   "outputs": [],
   "source": [
    "images = []\n",
    "processed = []\n",
    "results = []\n",
    "\n"
   ]
  },
  {
   "cell_type": "markdown",
   "metadata": {},
   "source": [
    "Now this looks like a pretty concise way to process a pipeline! But is it the best way?"
   ]
  },
  {
   "cell_type": "markdown",
   "metadata": {},
   "source": [
    "### 4.1.4 Memory cost for batch processing\n"
   ]
  },
  {
   "cell_type": "markdown",
   "metadata": {},
   "source": [
    "One thing to consider is that at the end of the program, `files`, `images`, `processed`, and `results` are all full arrays available to you in program memmory. This could be useful for debugging (e.g., check the intermediate results after preprocessing). It may also be useful when you need to aggregate across intermediate results.\n",
    "\n",
    "But the downside of having all the intermediate information is that it may use a lot of memory, even out of memory in your computer."
   ]
  },
  {
   "cell_type": "markdown",
   "metadata": {},
   "source": [
    "**Exercise 3:** Not all approaches above are as memory intensive as the others. Which approach is the least offensive?"
   ]
  },
  {
   "cell_type": "markdown",
   "metadata": {},
   "source": [
    "In our lesson on loading an image we discussed how much memory an image can use up. If you are processing 1000 16-bit, 1024x1024 pixel images each with 3 channels, how much memory does the first line above use?"
   ]
  },
  {
   "cell_type": "code",
   "execution_count": 4,
   "metadata": {},
   "outputs": [
    {
     "name": "stdout",
     "output_type": "stream",
     "text": [
      "6291456000 Bytes\n",
      "5.859375 GB\n"
     ]
    }
   ],
   "source": [
    "num_bytes = 1000 * 2 * 1024**2 * 3\n",
    "print(\"{} Bytes\".format(num_bytes))\n",
    "print(\"{} GB\".format(num_bytes / 1024.**3))"
   ]
  },
  {
   "cell_type": "markdown",
   "metadata": {},
   "source": [
    "That's probably not going to go smoothly if you have a multi-stage pipeline. You could delete each stage as you go, keeping in memory only the last and current stage using `del` stagements, e.g. `del images`, but this can introduce bugs when you need some parameters later. For very large numbers of images, this strategy suffers."
   ]
  },
  {
   "cell_type": "code",
   "execution_count": 5,
   "metadata": {},
   "outputs": [],
   "source": [
    "#processed = map(preprocessing,images)\n",
    "#del images\n",
    "\n",
    "#list(images)"
   ]
  },
  {
   "cell_type": "markdown",
   "metadata": {},
   "source": [
    "#### A good way to design a pipeline is to draw out the pipes. \n",
    "Map out the dependencies between pieces of information so you can see where to break things into functions and figure out how much data you actually need to keep in memory. "
   ]
  },
  {
   "cell_type": "markdown",
   "metadata": {},
   "source": [
    "## 4.2 Tracking objects / pipeline design"
   ]
  },
  {
   "cell_type": "raw",
   "metadata": {},
   "source": [
    "You already know how to identify separate objects in your images and measure their properties (position, size, intensity etc.). Now we will build an image processing pipleline to track cell movement over time in time-lapse microscopy images. \n",
    "\n",
    "We will also demonstrate how this process can fail, and what to watch out for when you are analyzing your own data.\n"
   ]
  },
  {
   "cell_type": "markdown",
   "metadata": {},
   "source": [
    "Now let's import a video"
   ]
  },
  {
   "cell_type": "code",
   "execution_count": null,
   "metadata": {},
   "outputs": [],
   "source": []
  },
  {
   "cell_type": "markdown",
   "metadata": {},
   "source": [
    "**Step 1**: Pre-process and segment cells"
   ]
  },
  {
   "cell_type": "code",
   "execution_count": 6,
   "metadata": {},
   "outputs": [],
   "source": [
    "def preprocessing(image):\n",
    "    # filtering\n",
    "    filtered = median_filter(image, size=2) \n",
    "    # thresholding\n",
    "    otsu_thresh = filters.threshold_otsu(filtered) \n",
    "    masked = filtered > otsu_thresh #smaller threshold than otsu      \n",
    "    # morphology\n",
    "    morph = sm.binary_erosion(masked,sm.disk(1)) \n",
    "    return morph"
   ]
  },
  {
   "cell_type": "markdown",
   "metadata": {},
   "source": [
    "**Step 2:** Quantify cell properties"
   ]
  },
  {
   "cell_type": "code",
   "execution_count": null,
   "metadata": {},
   "outputs": [],
   "source": [
    "\n",
    "    "
   ]
  },
  {
   "cell_type": "markdown",
   "metadata": {},
   "source": [
    "**Step 3:** Define a function to track cells: The easiest way to accomplish this  task is to connect every segmented cell in a frame to the nearest cell in the subsequent frame. The assumption is that cells are moving slowly with respect to the chosen frame-rate and are not densely packed."
   ]
  },
  {
   "cell_type": "code",
   "execution_count": null,
   "metadata": {},
   "outputs": [],
   "source": []
  },
  {
   "cell_type": "markdown",
   "metadata": {},
   "source": [
    "**Step 4:** Run batch processing to tack cell position in time-series images"
   ]
  },
  {
   "cell_type": "code",
   "execution_count": null,
   "metadata": {},
   "outputs": [],
   "source": []
  },
  {
   "cell_type": "code",
   "execution_count": null,
   "metadata": {},
   "outputs": [],
   "source": []
  },
  {
   "cell_type": "code",
   "execution_count": null,
   "metadata": {},
   "outputs": [],
   "source": []
  },
  {
   "cell_type": "markdown",
   "metadata": {},
   "source": [
    "**Exercise 2:** Plot the trajectory of another cell #5"
   ]
  },
  {
   "cell_type": "code",
   "execution_count": null,
   "metadata": {},
   "outputs": [],
   "source": []
  },
  {
   "cell_type": "code",
   "execution_count": null,
   "metadata": {},
   "outputs": [],
   "source": []
  },
  {
   "cell_type": "code",
   "execution_count": null,
   "metadata": {},
   "outputs": [],
   "source": []
  }
 ],
 "metadata": {
  "anaconda-cloud": {},
  "kernelspec": {
   "display_name": "Python 3",
   "language": "python",
   "name": "python3"
  },
  "language_info": {
   "codemirror_mode": {
    "name": "ipython",
    "version": 3
   },
   "file_extension": ".py",
   "mimetype": "text/x-python",
   "name": "python",
   "nbconvert_exporter": "python",
   "pygments_lexer": "ipython3",
   "version": "3.7.4"
  }
 },
 "nbformat": 4,
 "nbformat_minor": 1
}
