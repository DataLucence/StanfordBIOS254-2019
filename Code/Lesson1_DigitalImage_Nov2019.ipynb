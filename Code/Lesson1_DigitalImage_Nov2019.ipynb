{
 "cells": [
  {
   "cell_type": "markdown",
   "metadata": {},
   "source": [
    "# Lesson 1: Digital Images\n",
    "\n",
    "Our goal today is to understand what a digital image is and how it is commonly represented as bits and bytes. We will cover the following topics:\n",
    "\n",
    "- Loading and viewing images\n",
    "   - 1-1 Load image into iPython notebook   \n",
    "   - 1-2 Load the associated metadata   \n",
    "   - 1-3 Get bit depth of image    \n",
    "   - 1-4 View image in iPython notebook\n",
    "- Using JSON and python dictionaries for metadata\n",
    "- Indexing and arrays\n",
    "    - 2-1 Print a subset of pixel values (such as the top right corner)   \n",
    "    - 2-2 Set that subset of values to 0   \n",
    "    - 2-3 View the modified image in iPython       \n",
    "- Histogram the pixel values in the image\n",
    "- Color maps and color science\n",
    "- File size, disk space, and memory: \n",
    "    - 5-1 Report the size of the file on the disk    \n",
    "    - 5-2 Report the size of the file read into memory       \n",
    "- Errors and debugs:   \n",
    "    - 6-1 SyntaxError\n",
    "    - 6-2 NameError\n",
    "    - 6-3 IndexError   "
   ]
  },
  {
   "cell_type": "code",
   "execution_count": null,
   "metadata": {
    "collapsed": true
   },
   "outputs": [],
   "source": []
  },
  {
   "cell_type": "code",
   "execution_count": null,
   "metadata": {
    "collapsed": true
   },
   "outputs": [],
   "source": []
  }
 ],
 "metadata": {
  "kernelspec": {
   "display_name": "Python 3",
   "language": "python",
   "name": "python3"
  },
  "language_info": {
   "codemirror_mode": {
    "name": "ipython",
    "version": 3
   },
   "file_extension": ".py",
   "mimetype": "text/x-python",
   "name": "python",
   "nbconvert_exporter": "python",
   "pygments_lexer": "ipython3",
   "version": "3.6.1"
  }
 },
 "nbformat": 4,
 "nbformat_minor": 2
}
