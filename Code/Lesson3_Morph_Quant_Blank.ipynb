{
 "cells": [
  {
   "cell_type": "markdown",
   "metadata": {},
   "source": [
    "# New Lesson 3: Morphological Operations and Quantifications\n",
    "\n",
    "So far we have learned how to find objects of interest in an image and produce masks which correspond to these objects. Until now, we have relied on image preprocessing to produce quality masks. However, in this session we plan to study morphological operations, which instead focus on making improvements to the masks directly.\n",
    "\n",
    "1. In this module you will first learn\n",
    "    1) What is a morphological operation\n",
    "    2) How to choose the right parameters for your morphological operation\n",
    "   Some common morphological operations:\n",
    "    - Erosion\n",
    "    - Dilation\n",
    "    - Opening\n",
    "    - Closing\n",
    "\n",
    "\n",
    "2. To quantify the change in objects localization and their morphological variations.\n",
    "    \n",
    "    This section requires care when choosing the preprocessing algorithms to apply and their ordering, as well as batch processing across datasets.\n",
    "\n",
    "3. Access properties of cells that have been detected, such as\n",
    "    - Area\n",
    "    - Intensity\n",
    "    - Image vs mask properties\n",
    "    - Aspect ratio\n",
    "    \n",
    "   View the statistics of properties of detected cells;\n",
    "   Filter out unwanted cells based on their properties"
   ]
  },
  {
   "cell_type": "markdown",
   "metadata": {},
   "source": [
    "***\n",
    "## 3.1 Load previously processed data (filter and thresholding)"
   ]
  },
  {
   "cell_type": "markdown",
   "metadata": {},
   "source": [
    "### 3.1.1 Load, understand and visualize the data"
   ]
  },
  {
   "cell_type": "markdown",
   "metadata": {},
   "source": [
    "First, let's import packages and set some plotting defaults\n"
   ]
  },
  {
   "cell_type": "code",
   "execution_count": null,
   "metadata": {},
   "outputs": [],
   "source": [
    "%matplotlib inline\n",
    "import numpy as np\n",
    "import matplotlib.pyplot as plt\n",
    "import skimage\n",
    "import seaborn as sns\n",
    "import os\n"
   ]
  },
  {
   "cell_type": "markdown",
   "metadata": {},
   "source": [
    "### 3.1.2 Load the images\n"
   ]
  },
  {
   "cell_type": "markdown",
   "metadata": {},
   "source": [
    "#### <font color='red'> Exercise</font>: load lesson 3 data  \n",
    "Use what you learned in Lesson 1 and 2 to load the Lesson 3 image data. \n",
    "Hint:   \n",
    "Step 1) Find the data directory  \n",
    "Step 2) use skimage.io.imread to load the image data  \n",
    "\n"
   ]
  },
  {
   "cell_type": "code",
   "execution_count": null,
   "metadata": {},
   "outputs": [],
   "source": []
  },
  {
   "cell_type": "code",
   "execution_count": null,
   "metadata": {},
   "outputs": [],
   "source": []
  },
  {
   "cell_type": "markdown",
   "metadata": {},
   "source": [
    "### 3.1.3 Load the metadata"
   ]
  },
  {
   "cell_type": "markdown",
   "metadata": {},
   "source": [
    "Load the metadata, which is in JSON format"
   ]
  },
  {
   "cell_type": "code",
   "execution_count": null,
   "metadata": {},
   "outputs": [],
   "source": [
    "import json\n",
    "metadata_fn = 'HAC-Cit-KRABdox_s41_t70.json'\n",
    "with open(os.path.join(data_path, metadata_fn), mode='r') as metadata_ctl:\n",
    "    meta_data = json.load(metadata_ctl)"
   ]
  },
  {
   "cell_type": "code",
   "execution_count": null,
   "metadata": {},
   "outputs": [],
   "source": [
    "slice = {}\n",
    "for idx, channel in enumerate(meta_data['channels']):\n",
    "    slice[channel] = data[:,:,idx]"
   ]
  },
  {
   "cell_type": "code",
   "execution_count": null,
   "metadata": {},
   "outputs": [],
   "source": [
    "brt_data = slice['DIC']\n",
    "ch1_data = slice['YFP']\n",
    "ch2_data = slice['RFP']"
   ]
  },
  {
   "cell_type": "code",
   "execution_count": null,
   "metadata": {},
   "outputs": [],
   "source": [
    "cha = ch1_data"
   ]
  },
  {
   "cell_type": "code",
   "execution_count": null,
   "metadata": {},
   "outputs": [],
   "source": [
    "def get_mask(im, threshold):\n",
    "    mask = np.zeros(im.shape)\n",
    "    mask[im >=threshold] = 1\n",
    "    return(mask)"
   ]
  },
  {
   "cell_type": "markdown",
   "metadata": {},
   "source": [
    "\n",
    "### 3.1.4 Filtering and background subtraction\n",
    "\n",
    "To illustrate the need for preprocessing, let's try to automatically threshold the fluorescent channel of our data."
   ]
  },
  {
   "cell_type": "code",
   "execution_count": null,
   "metadata": {},
   "outputs": [],
   "source": [
    "from skimage.filters.rank import minimum as min_filter\n",
    "from skimage.filters.rank import median as median_filter\n",
    "from skimage.morphology import disk"
   ]
  },
  {
   "cell_type": "code",
   "execution_count": null,
   "metadata": {},
   "outputs": [],
   "source": [
    "f_size = 4\n",
    "cha_filtered = median_filter(cha, disk(f_size))"
   ]
  },
  {
   "cell_type": "code",
   "execution_count": null,
   "metadata": {},
   "outputs": [],
   "source": [
    "filter_radius = 12\n",
    "cha_background = min_filter(cha_filtered, disk(filter_radius))"
   ]
  },
  {
   "cell_type": "markdown",
   "metadata": {},
   "source": [
    "Next, let's substract out the background from the dataset."
   ]
  },
  {
   "cell_type": "code",
   "execution_count": null,
   "metadata": {},
   "outputs": [],
   "source": [
    "cha_bgs = cha_filtered - cha_background\n",
    "cha_bgs[cha_bgs<0] = 0"
   ]
  },
  {
   "cell_type": "code",
   "execution_count": null,
   "metadata": {},
   "outputs": [],
   "source": [
    "from skimage.filters import threshold_otsu\n",
    "\n",
    "thresh_otsu = threshold_otsu(cha_bgs)\n",
    "mask_otsu = get_mask(cha_bgs, thresh_otsu)"
   ]
  },
  {
   "cell_type": "code",
   "execution_count": null,
   "metadata": {
    "scrolled": true
   },
   "outputs": [],
   "source": [
    "fig, ax = plt.subplots(1, 2, figsize=(16, 4))\n",
    "ax[0].imshow(cha)\n",
    "ax[0].set_title('Image')\n",
    "\n",
    "ax[1].imshow(mask_otsu, cmap='gray')\n",
    "ax[1].set_title('Otsu threshold')"
   ]
  },
  {
   "cell_type": "markdown",
   "metadata": {},
   "source": [
    "## 3.2 Morphological Operations"
   ]
  },
  {
   "cell_type": "markdown",
   "metadata": {},
   "source": [
    "### 3.2.1 Pre-set"
   ]
  },
  {
   "cell_type": "code",
   "execution_count": null,
   "metadata": {},
   "outputs": [],
   "source": []
  },
  {
   "cell_type": "markdown",
   "metadata": {},
   "source": [
    "### 3.2.2 Optimized Operation Results (Closing-opening)"
   ]
  },
  {
   "cell_type": "code",
   "execution_count": null,
   "metadata": {},
   "outputs": [],
   "source": []
  },
  {
   "cell_type": "code",
   "execution_count": null,
   "metadata": {},
   "outputs": [],
   "source": [
    "\n"
   ]
  },
  {
   "cell_type": "markdown",
   "metadata": {},
   "source": [
    "Plotting the data."
   ]
  },
  {
   "cell_type": "code",
   "execution_count": null,
   "metadata": {},
   "outputs": [],
   "source": []
  },
  {
   "cell_type": "markdown",
   "metadata": {},
   "source": [
    "#### <font color='red'> Exercise</font>: Using For Loop investigate how the object number might change with disk size. \n",
    "Find an optimal range of disk value, and plot your findings. "
   ]
  },
  {
   "cell_type": "code",
   "execution_count": null,
   "metadata": {},
   "outputs": [],
   "source": []
  },
  {
   "cell_type": "markdown",
   "metadata": {},
   "source": [
    "## 3.3 Quantifying Properties of Identified Regions or Cells\n"
   ]
  },
  {
   "cell_type": "markdown",
   "metadata": {},
   "source": [
    "### 3.3.1. Load lable function and label cells with different colors"
   ]
  },
  {
   "cell_type": "code",
   "execution_count": null,
   "metadata": {},
   "outputs": [],
   "source": [
    "\n"
   ]
  },
  {
   "cell_type": "markdown",
   "metadata": {},
   "source": [
    "Load regionprops function and get the properties of the labeled cells\n"
   ]
  },
  {
   "cell_type": "code",
   "execution_count": null,
   "metadata": {
    "scrolled": true
   },
   "outputs": [],
   "source": [
    "\n"
   ]
  },
  {
   "cell_type": "markdown",
   "metadata": {},
   "source": [
    "Plot labeled cells with different colors"
   ]
  },
  {
   "cell_type": "code",
   "execution_count": null,
   "metadata": {
    "scrolled": true
   },
   "outputs": [],
   "source": []
  },
  {
   "cell_type": "markdown",
   "metadata": {},
   "source": [
    "# 3.4 Measure properties of cells that have been detected"
   ]
  },
  {
   "cell_type": "code",
   "execution_count": null,
   "metadata": {
    "scrolled": true
   },
   "outputs": [],
   "source": []
  },
  {
   "cell_type": "code",
   "execution_count": null,
   "metadata": {},
   "outputs": [],
   "source": []
  },
  {
   "cell_type": "markdown",
   "metadata": {},
   "source": [
    "Area:"
   ]
  },
  {
   "cell_type": "code",
   "execution_count": null,
   "metadata": {},
   "outputs": [],
   "source": []
  },
  {
   "cell_type": "markdown",
   "metadata": {},
   "source": [
    "Aspect Ratio"
   ]
  },
  {
   "cell_type": "code",
   "execution_count": null,
   "metadata": {
    "scrolled": true
   },
   "outputs": [],
   "source": []
  },
  {
   "cell_type": "markdown",
   "metadata": {},
   "source": [
    "Roundness\n",
    "\n",
    "Estimate each object's area and perimeter. Use these results to form a simple metric indicating the roundness of an object:\n",
    "\n",
    "metric=\n",
    "4π∗area/perimeter^2\n",
    "\n",
    "This metric is equal to 1 only for a circle and it is less than one for any other shape. The discrimination process can be controlled by setting an appropriate threshold"
   ]
  },
  {
   "cell_type": "code",
   "execution_count": null,
   "metadata": {},
   "outputs": [],
   "source": []
  }
 ],
 "metadata": {
  "kernelspec": {
   "display_name": "Python 3",
   "language": "python",
   "name": "python3"
  },
  "language_info": {
   "codemirror_mode": {
    "name": "ipython",
    "version": 3
   },
   "file_extension": ".py",
   "mimetype": "text/x-python",
   "name": "python",
   "nbconvert_exporter": "python",
   "pygments_lexer": "ipython3",
   "version": "3.7.4"
  }
 },
 "nbformat": 4,
 "nbformat_minor": 2
}
